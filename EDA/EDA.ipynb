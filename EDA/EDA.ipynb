{
 "cells": [
  {
   "cell_type": "markdown",
   "id": "45668866",
   "metadata": {},
   "source": [
    "# EDA On Dataset"
   ]
  },
  {
   "cell_type": "markdown",
   "id": "ae7670fd",
   "metadata": {},
   "source": [
    "## 1: Data Pre-processing"
   ]
  },
  {
   "cell_type": "markdown",
   "id": "1d65f14c",
   "metadata": {},
   "source": [
    "### 1.1 : Import libraries"
   ]
  },
  {
   "cell_type": "code",
   "execution_count": 63,
   "id": "ac59a703",
   "metadata": {},
   "outputs": [],
   "source": [
    "import pandas as pd\n",
    "import csv\n",
    "import string"
   ]
  },
  {
   "cell_type": "markdown",
   "id": "90d3adbf",
   "metadata": {},
   "source": [
    "### 1.2 : Read CSV Data"
   ]
  },
  {
   "cell_type": "code",
   "execution_count": 64,
   "id": "15b05463",
   "metadata": {},
   "outputs": [
    {
     "data": {
      "text/html": [
       "<div>\n",
       "<style scoped>\n",
       "    .dataframe tbody tr th:only-of-type {\n",
       "        vertical-align: middle;\n",
       "    }\n",
       "\n",
       "    .dataframe tbody tr th {\n",
       "        vertical-align: top;\n",
       "    }\n",
       "\n",
       "    .dataframe thead th {\n",
       "        text-align: right;\n",
       "    }\n",
       "</style>\n",
       "<table border=\"1\" class=\"dataframe\">\n",
       "  <thead>\n",
       "    <tr style=\"text-align: right;\">\n",
       "      <th></th>\n",
       "      <th>id</th>\n",
       "      <th>title</th>\n",
       "      <th>text</th>\n",
       "      <th>label</th>\n",
       "    </tr>\n",
       "  </thead>\n",
       "  <tbody>\n",
       "    <tr>\n",
       "      <th>0</th>\n",
       "      <td>0</td>\n",
       "      <td>LAW ENFORCEMENT ON HIGH ALERT Following Threat...</td>\n",
       "      <td>No comment is expected from Barack Obama Membe...</td>\n",
       "      <td>1</td>\n",
       "    </tr>\n",
       "    <tr>\n",
       "      <th>1</th>\n",
       "      <td>1</td>\n",
       "      <td>NaN</td>\n",
       "      <td>Did they post their votes for Hillary already?</td>\n",
       "      <td>1</td>\n",
       "    </tr>\n",
       "    <tr>\n",
       "      <th>2</th>\n",
       "      <td>2</td>\n",
       "      <td>UNBELIEVABLE! OBAMA’S ATTORNEY GENERAL SAYS MO...</td>\n",
       "      <td>Now, most of the demonstrators gathered last ...</td>\n",
       "      <td>1</td>\n",
       "    </tr>\n",
       "    <tr>\n",
       "      <th>3</th>\n",
       "      <td>3</td>\n",
       "      <td>Bobby Jindal, raised Hindu, uses story of Chri...</td>\n",
       "      <td>A dozen politically active pastors came here f...</td>\n",
       "      <td>0</td>\n",
       "    </tr>\n",
       "    <tr>\n",
       "      <th>4</th>\n",
       "      <td>4</td>\n",
       "      <td>SATAN 2: Russia unvelis an image of its terrif...</td>\n",
       "      <td>The RS-28 Sarmat missile, dubbed Satan 2, will...</td>\n",
       "      <td>1</td>\n",
       "    </tr>\n",
       "  </tbody>\n",
       "</table>\n",
       "</div>"
      ],
      "text/plain": [
       "   id                                              title  \\\n",
       "0   0  LAW ENFORCEMENT ON HIGH ALERT Following Threat...   \n",
       "1   1                                                NaN   \n",
       "2   2  UNBELIEVABLE! OBAMA’S ATTORNEY GENERAL SAYS MO...   \n",
       "3   3  Bobby Jindal, raised Hindu, uses story of Chri...   \n",
       "4   4  SATAN 2: Russia unvelis an image of its terrif...   \n",
       "\n",
       "                                                text  label  \n",
       "0  No comment is expected from Barack Obama Membe...      1  \n",
       "1     Did they post their votes for Hillary already?      1  \n",
       "2   Now, most of the demonstrators gathered last ...      1  \n",
       "3  A dozen politically active pastors came here f...      0  \n",
       "4  The RS-28 Sarmat missile, dubbed Satan 2, will...      1  "
      ]
     },
     "execution_count": 64,
     "metadata": {},
     "output_type": "execute_result"
    }
   ],
   "source": [
    "fakeDF = pd.read_csv('WELFake_Dataset.csv', names = ['id','title','text','label'], skiprows=1)\n",
    "fakeDF.head()"
   ]
  },
  {
   "cell_type": "markdown",
   "id": "b7ffb84d",
   "metadata": {},
   "source": [
    "### 1.3 : Remove null values"
   ]
  },
  {
   "cell_type": "markdown",
   "id": "f3018996",
   "metadata": {},
   "source": [
    "#### Before Removal:"
   ]
  },
  {
   "cell_type": "code",
   "execution_count": 65,
   "id": "90daba28",
   "metadata": {},
   "outputs": [
    {
     "name": "stdout",
     "output_type": "stream",
     "text": [
      "<class 'pandas.core.frame.DataFrame'>\n",
      "RangeIndex: 72134 entries, 0 to 72133\n",
      "Data columns (total 4 columns):\n",
      " #   Column  Non-Null Count  Dtype \n",
      "---  ------  --------------  ----- \n",
      " 0   id      72134 non-null  int64 \n",
      " 1   title   71576 non-null  object\n",
      " 2   text    72095 non-null  object\n",
      " 3   label   72134 non-null  int64 \n",
      "dtypes: int64(2), object(2)\n",
      "memory usage: 2.2+ MB\n"
     ]
    }
   ],
   "source": [
    "fakeDF.info()"
   ]
  },
  {
   "cell_type": "markdown",
   "id": "c4720cd3",
   "metadata": {},
   "source": [
    "#### After Removal:"
   ]
  },
  {
   "cell_type": "code",
   "execution_count": 66,
   "id": "7432d19f",
   "metadata": {},
   "outputs": [
    {
     "name": "stdout",
     "output_type": "stream",
     "text": [
      "<class 'pandas.core.frame.DataFrame'>\n",
      "Int64Index: 71537 entries, 0 to 72133\n",
      "Data columns (total 4 columns):\n",
      " #   Column  Non-Null Count  Dtype \n",
      "---  ------  --------------  ----- \n",
      " 0   id      71537 non-null  int64 \n",
      " 1   title   71537 non-null  object\n",
      " 2   text    71537 non-null  object\n",
      " 3   label   71537 non-null  int64 \n",
      "dtypes: int64(2), object(2)\n",
      "memory usage: 2.7+ MB\n"
     ]
    }
   ],
   "source": [
    "fakeDF = fakeDF.dropna()\n",
    "fakeDF.info()"
   ]
  },
  {
   "cell_type": "markdown",
   "id": "e09912b7",
   "metadata": {},
   "source": [
    "### 1.4 : Dropping irrelevant column"
   ]
  },
  {
   "cell_type": "code",
   "execution_count": 67,
   "id": "3701cd68",
   "metadata": {},
   "outputs": [
    {
     "name": "stdout",
     "output_type": "stream",
     "text": [
      "<class 'pandas.core.frame.DataFrame'>\n",
      "Int64Index: 71537 entries, 0 to 72133\n",
      "Data columns (total 3 columns):\n",
      " #   Column  Non-Null Count  Dtype \n",
      "---  ------  --------------  ----- \n",
      " 0   title   71537 non-null  object\n",
      " 1   text    71537 non-null  object\n",
      " 2   label   71537 non-null  int64 \n",
      "dtypes: int64(1), object(2)\n",
      "memory usage: 2.2+ MB\n"
     ]
    }
   ],
   "source": [
    "fakeDF = fakeDF.drop('id', axis=1)\n",
    "fakeDF.info()"
   ]
  },
  {
   "cell_type": "markdown",
   "id": "eba5e7f8",
   "metadata": {},
   "source": [
    "## 2: Text Data Cleaning"
   ]
  },
  {
   "cell_type": "markdown",
   "id": "4395ae8d",
   "metadata": {},
   "source": [
    "### 2.1: Import contractions data mapping"
   ]
  },
  {
   "cell_type": "code",
   "execution_count": 68,
   "id": "2d6915b6",
   "metadata": {},
   "outputs": [
    {
     "data": {
      "text/html": [
       "<div>\n",
       "<style scoped>\n",
       "    .dataframe tbody tr th:only-of-type {\n",
       "        vertical-align: middle;\n",
       "    }\n",
       "\n",
       "    .dataframe tbody tr th {\n",
       "        vertical-align: top;\n",
       "    }\n",
       "\n",
       "    .dataframe thead th {\n",
       "        text-align: right;\n",
       "    }\n",
       "</style>\n",
       "<table border=\"1\" class=\"dataframe\">\n",
       "  <thead>\n",
       "    <tr style=\"text-align: right;\">\n",
       "      <th></th>\n",
       "      <th>key</th>\n",
       "      <th>value</th>\n",
       "    </tr>\n",
       "  </thead>\n",
       "  <tbody>\n",
       "    <tr>\n",
       "      <th>0</th>\n",
       "      <td>ain't</td>\n",
       "      <td>am not</td>\n",
       "    </tr>\n",
       "    <tr>\n",
       "      <th>1</th>\n",
       "      <td>I ain't</td>\n",
       "      <td>am not</td>\n",
       "    </tr>\n",
       "    <tr>\n",
       "      <th>2</th>\n",
       "      <td>you ain't</td>\n",
       "      <td>you are not</td>\n",
       "    </tr>\n",
       "    <tr>\n",
       "      <th>3</th>\n",
       "      <td>she ain't</td>\n",
       "      <td>she is not</td>\n",
       "    </tr>\n",
       "    <tr>\n",
       "      <th>4</th>\n",
       "      <td>he ain't</td>\n",
       "      <td>he is not</td>\n",
       "    </tr>\n",
       "    <tr>\n",
       "      <th>...</th>\n",
       "      <td>...</td>\n",
       "      <td>...</td>\n",
       "    </tr>\n",
       "    <tr>\n",
       "      <th>317</th>\n",
       "      <td>youll</td>\n",
       "      <td>you shall</td>\n",
       "    </tr>\n",
       "    <tr>\n",
       "      <th>318</th>\n",
       "      <td>youre</td>\n",
       "      <td>you are</td>\n",
       "    </tr>\n",
       "    <tr>\n",
       "      <th>319</th>\n",
       "      <td>yourent</td>\n",
       "      <td>you are not</td>\n",
       "    </tr>\n",
       "    <tr>\n",
       "      <th>320</th>\n",
       "      <td>youve</td>\n",
       "      <td>you have</td>\n",
       "    </tr>\n",
       "    <tr>\n",
       "      <th>321</th>\n",
       "      <td>youvent</td>\n",
       "      <td>you have not</td>\n",
       "    </tr>\n",
       "  </tbody>\n",
       "</table>\n",
       "<p>322 rows × 2 columns</p>\n",
       "</div>"
      ],
      "text/plain": [
       "           key         value\n",
       "0        ain't        am not\n",
       "1      I ain't        am not\n",
       "2    you ain't   you are not\n",
       "3    she ain't    she is not\n",
       "4     he ain't     he is not\n",
       "..         ...           ...\n",
       "317      youll    you shall \n",
       "318      youre       you are\n",
       "319    yourent   you are not\n",
       "320      youve      you have\n",
       "321    youvent  you have not\n",
       "\n",
       "[322 rows x 2 columns]"
      ]
     },
     "execution_count": 68,
     "metadata": {},
     "output_type": "execute_result"
    }
   ],
   "source": [
    "contractionsDF = pd.read_csv('contractions.csv', names = ['key','value'], skiprows=1)\n",
    "contractionsDF"
   ]
  },
  {
   "cell_type": "markdown",
   "id": "77240000",
   "metadata": {},
   "source": [
    "### 2.2: Lowercase both dataframes"
   ]
  },
  {
   "cell_type": "code",
   "execution_count": 69,
   "id": "a0f5d2ee",
   "metadata": {},
   "outputs": [
    {
     "data": {
      "text/html": [
       "<div>\n",
       "<style scoped>\n",
       "    .dataframe tbody tr th:only-of-type {\n",
       "        vertical-align: middle;\n",
       "    }\n",
       "\n",
       "    .dataframe tbody tr th {\n",
       "        vertical-align: top;\n",
       "    }\n",
       "\n",
       "    .dataframe thead th {\n",
       "        text-align: right;\n",
       "    }\n",
       "</style>\n",
       "<table border=\"1\" class=\"dataframe\">\n",
       "  <thead>\n",
       "    <tr style=\"text-align: right;\">\n",
       "      <th></th>\n",
       "      <th>title</th>\n",
       "      <th>text</th>\n",
       "      <th>label</th>\n",
       "    </tr>\n",
       "  </thead>\n",
       "  <tbody>\n",
       "    <tr>\n",
       "      <th>0</th>\n",
       "      <td>law enforcement on high alert following threat...</td>\n",
       "      <td>no comment is expected from barack obama membe...</td>\n",
       "      <td>1</td>\n",
       "    </tr>\n",
       "    <tr>\n",
       "      <th>2</th>\n",
       "      <td>unbelievable! obama’s attorney general says mo...</td>\n",
       "      <td>now, most of the demonstrators gathered last ...</td>\n",
       "      <td>1</td>\n",
       "    </tr>\n",
       "    <tr>\n",
       "      <th>3</th>\n",
       "      <td>bobby jindal, raised hindu, uses story of chri...</td>\n",
       "      <td>a dozen politically active pastors came here f...</td>\n",
       "      <td>0</td>\n",
       "    </tr>\n",
       "    <tr>\n",
       "      <th>4</th>\n",
       "      <td>satan 2: russia unvelis an image of its terrif...</td>\n",
       "      <td>the rs-28 sarmat missile, dubbed satan 2, will...</td>\n",
       "      <td>1</td>\n",
       "    </tr>\n",
       "    <tr>\n",
       "      <th>5</th>\n",
       "      <td>about time! christian group sues amazon and sp...</td>\n",
       "      <td>all we can say on this one is it s about time ...</td>\n",
       "      <td>1</td>\n",
       "    </tr>\n",
       "  </tbody>\n",
       "</table>\n",
       "</div>"
      ],
      "text/plain": [
       "                                               title  \\\n",
       "0  law enforcement on high alert following threat...   \n",
       "2  unbelievable! obama’s attorney general says mo...   \n",
       "3  bobby jindal, raised hindu, uses story of chri...   \n",
       "4  satan 2: russia unvelis an image of its terrif...   \n",
       "5  about time! christian group sues amazon and sp...   \n",
       "\n",
       "                                                text  label  \n",
       "0  no comment is expected from barack obama membe...      1  \n",
       "2   now, most of the demonstrators gathered last ...      1  \n",
       "3  a dozen politically active pastors came here f...      0  \n",
       "4  the rs-28 sarmat missile, dubbed satan 2, will...      1  \n",
       "5  all we can say on this one is it s about time ...      1  "
      ]
     },
     "execution_count": 69,
     "metadata": {},
     "output_type": "execute_result"
    }
   ],
   "source": [
    "fakeDF['title'] = fakeDF['title'].str.lower()\n",
    "fakeDF['text'] = fakeDF['text'].str.lower()\n",
    "contractionsDF['key'] = contractionsDF['key'].str.lower()\n",
    "contractionsDF['value'] = contractionsDF['value'].str.lower()\n",
    "fakeDF.head()"
   ]
  },
  {
   "cell_type": "code",
   "execution_count": 70,
   "id": "9a814454",
   "metadata": {},
   "outputs": [
    {
     "data": {
      "text/html": [
       "<div>\n",
       "<style scoped>\n",
       "    .dataframe tbody tr th:only-of-type {\n",
       "        vertical-align: middle;\n",
       "    }\n",
       "\n",
       "    .dataframe tbody tr th {\n",
       "        vertical-align: top;\n",
       "    }\n",
       "\n",
       "    .dataframe thead th {\n",
       "        text-align: right;\n",
       "    }\n",
       "</style>\n",
       "<table border=\"1\" class=\"dataframe\">\n",
       "  <thead>\n",
       "    <tr style=\"text-align: right;\">\n",
       "      <th></th>\n",
       "      <th>key</th>\n",
       "      <th>value</th>\n",
       "    </tr>\n",
       "  </thead>\n",
       "  <tbody>\n",
       "    <tr>\n",
       "      <th>0</th>\n",
       "      <td>ain't</td>\n",
       "      <td>am not</td>\n",
       "    </tr>\n",
       "    <tr>\n",
       "      <th>1</th>\n",
       "      <td>i ain't</td>\n",
       "      <td>am not</td>\n",
       "    </tr>\n",
       "    <tr>\n",
       "      <th>2</th>\n",
       "      <td>you ain't</td>\n",
       "      <td>you are not</td>\n",
       "    </tr>\n",
       "    <tr>\n",
       "      <th>3</th>\n",
       "      <td>she ain't</td>\n",
       "      <td>she is not</td>\n",
       "    </tr>\n",
       "    <tr>\n",
       "      <th>4</th>\n",
       "      <td>he ain't</td>\n",
       "      <td>he is not</td>\n",
       "    </tr>\n",
       "  </tbody>\n",
       "</table>\n",
       "</div>"
      ],
      "text/plain": [
       "         key        value\n",
       "0      ain't       am not\n",
       "1    i ain't       am not\n",
       "2  you ain't  you are not\n",
       "3  she ain't   she is not\n",
       "4   he ain't    he is not"
      ]
     },
     "execution_count": 70,
     "metadata": {},
     "output_type": "execute_result"
    }
   ],
   "source": [
    "contractionsDF.head()"
   ]
  },
  {
   "cell_type": "markdown",
   "id": "21c1642c",
   "metadata": {},
   "source": [
    "### 2.3: Expand contractions"
   ]
  },
  {
   "cell_type": "code",
   "execution_count": 71,
   "id": "62e5158c",
   "metadata": {},
   "outputs": [
    {
     "data": {
      "text/html": [
       "<div>\n",
       "<style scoped>\n",
       "    .dataframe tbody tr th:only-of-type {\n",
       "        vertical-align: middle;\n",
       "    }\n",
       "\n",
       "    .dataframe tbody tr th {\n",
       "        vertical-align: top;\n",
       "    }\n",
       "\n",
       "    .dataframe thead th {\n",
       "        text-align: right;\n",
       "    }\n",
       "</style>\n",
       "<table border=\"1\" class=\"dataframe\">\n",
       "  <thead>\n",
       "    <tr style=\"text-align: right;\">\n",
       "      <th></th>\n",
       "      <th>title</th>\n",
       "      <th>text</th>\n",
       "      <th>label</th>\n",
       "    </tr>\n",
       "  </thead>\n",
       "  <tbody>\n",
       "    <tr>\n",
       "      <th>0</th>\n",
       "      <td>law enforcement on high alert following threat...</td>\n",
       "      <td>no comment is expected from barack obama membe...</td>\n",
       "      <td>1</td>\n",
       "    </tr>\n",
       "    <tr>\n",
       "      <th>2</th>\n",
       "      <td>unbelievable! obama’s attorney general says mo...</td>\n",
       "      <td>now, most of the demonstrators gathered last n...</td>\n",
       "      <td>1</td>\n",
       "    </tr>\n",
       "    <tr>\n",
       "      <th>3</th>\n",
       "      <td>bobby jindal, raised hindu, uses story of chri...</td>\n",
       "      <td>a dozen politically active pastors came here f...</td>\n",
       "      <td>0</td>\n",
       "    </tr>\n",
       "    <tr>\n",
       "      <th>4</th>\n",
       "      <td>satan 2: russia unvelis an image of it is terr...</td>\n",
       "      <td>the rs-28 sarmat missile, dubbed satan 2, will...</td>\n",
       "      <td>1</td>\n",
       "    </tr>\n",
       "    <tr>\n",
       "      <th>5</th>\n",
       "      <td>about time! christian group sues amazon and sp...</td>\n",
       "      <td>all we can say on this one is it s about time ...</td>\n",
       "      <td>1</td>\n",
       "    </tr>\n",
       "  </tbody>\n",
       "</table>\n",
       "</div>"
      ],
      "text/plain": [
       "                                               title  \\\n",
       "0  law enforcement on high alert following threat...   \n",
       "2  unbelievable! obama’s attorney general says mo...   \n",
       "3  bobby jindal, raised hindu, uses story of chri...   \n",
       "4  satan 2: russia unvelis an image of it is terr...   \n",
       "5  about time! christian group sues amazon and sp...   \n",
       "\n",
       "                                                text  label  \n",
       "0  no comment is expected from barack obama membe...      1  \n",
       "2  now, most of the demonstrators gathered last n...      1  \n",
       "3  a dozen politically active pastors came here f...      0  \n",
       "4  the rs-28 sarmat missile, dubbed satan 2, will...      1  \n",
       "5  all we can say on this one is it s about time ...      1  "
      ]
     },
     "execution_count": 71,
     "metadata": {},
     "output_type": "execute_result"
    }
   ],
   "source": [
    "# Create a dictionary from the contractions dataframe\n",
    "contractionsDict = dict(zip(contractionsDF['key'], contractionsDF['value']))\n",
    "\n",
    "# Function to expand contractions\n",
    "def expand_contractions(text):\n",
    "    words = text.split()\n",
    "    expanded_words = [contractionsDict.get(word, word) for word in words]\n",
    "    return ' '.join(expanded_words)\n",
    "\n",
    "# Apply function to dataframe\n",
    "fakeDF['title'] = fakeDF['title'].apply(expand_contractions)\n",
    "fakeDF['text'] = fakeDF['text'].apply(expand_contractions)\n",
    "\n",
    "fakeDF.head()"
   ]
  },
  {
   "cell_type": "markdown",
   "id": "edd5edee",
   "metadata": {},
   "source": [
    "### 2.4 Remove punctuations"
   ]
  },
  {
   "cell_type": "code",
   "execution_count": 73,
   "id": "a6b28b1a",
   "metadata": {},
   "outputs": [
    {
     "data": {
      "text/html": [
       "<div>\n",
       "<style scoped>\n",
       "    .dataframe tbody tr th:only-of-type {\n",
       "        vertical-align: middle;\n",
       "    }\n",
       "\n",
       "    .dataframe tbody tr th {\n",
       "        vertical-align: top;\n",
       "    }\n",
       "\n",
       "    .dataframe thead th {\n",
       "        text-align: right;\n",
       "    }\n",
       "</style>\n",
       "<table border=\"1\" class=\"dataframe\">\n",
       "  <thead>\n",
       "    <tr style=\"text-align: right;\">\n",
       "      <th></th>\n",
       "      <th>title</th>\n",
       "      <th>text</th>\n",
       "      <th>label</th>\n",
       "    </tr>\n",
       "  </thead>\n",
       "  <tbody>\n",
       "    <tr>\n",
       "      <th>0</th>\n",
       "      <td>law enforcement on high alert following threat...</td>\n",
       "      <td>no comment is expected from barack obama membe...</td>\n",
       "      <td>1</td>\n",
       "    </tr>\n",
       "    <tr>\n",
       "      <th>2</th>\n",
       "      <td>unbelievable obama’s attorney general says mos...</td>\n",
       "      <td>now most of the demonstrators gathered last ni...</td>\n",
       "      <td>1</td>\n",
       "    </tr>\n",
       "    <tr>\n",
       "      <th>3</th>\n",
       "      <td>bobby jindal raised hindu uses story of christ...</td>\n",
       "      <td>a dozen politically active pastors came here f...</td>\n",
       "      <td>0</td>\n",
       "    </tr>\n",
       "    <tr>\n",
       "      <th>4</th>\n",
       "      <td>satan 2 russia unvelis an image of it is terri...</td>\n",
       "      <td>the rs28 sarmat missile dubbed satan 2 will re...</td>\n",
       "      <td>1</td>\n",
       "    </tr>\n",
       "    <tr>\n",
       "      <th>5</th>\n",
       "      <td>about time christian group sues amazon and spl...</td>\n",
       "      <td>all we can say on this one is it s about time ...</td>\n",
       "      <td>1</td>\n",
       "    </tr>\n",
       "  </tbody>\n",
       "</table>\n",
       "</div>"
      ],
      "text/plain": [
       "                                               title  \\\n",
       "0  law enforcement on high alert following threat...   \n",
       "2  unbelievable obama’s attorney general says mos...   \n",
       "3  bobby jindal raised hindu uses story of christ...   \n",
       "4  satan 2 russia unvelis an image of it is terri...   \n",
       "5  about time christian group sues amazon and spl...   \n",
       "\n",
       "                                                text  label  \n",
       "0  no comment is expected from barack obama membe...      1  \n",
       "2  now most of the demonstrators gathered last ni...      1  \n",
       "3  a dozen politically active pastors came here f...      0  \n",
       "4  the rs28 sarmat missile dubbed satan 2 will re...      1  \n",
       "5  all we can say on this one is it s about time ...      1  "
      ]
     },
     "execution_count": 73,
     "metadata": {},
     "output_type": "execute_result"
    }
   ],
   "source": [
    "# Define a translation table to remove punctuation\n",
    "translator = str.maketrans('', '', string.punctuation)\n",
    "\n",
    "# Step 1: Remove punctuation from 'title' column\n",
    "fakeDF['title'] = fakeDF['title'].apply(lambda x: x.translate(translator))\n",
    "\n",
    "# Step 2: Remove punctuation from 'text' column\n",
    "fakeDF['text'] = fakeDF['text'].apply(lambda x: x.translate(translator))\n",
    "\n",
    "fakeDF.head()\n"
   ]
  },
  {
   "cell_type": "code",
   "execution_count": null,
   "id": "d65a401e",
   "metadata": {},
   "outputs": [],
   "source": []
  }
 ],
 "metadata": {
  "kernelspec": {
   "display_name": "Python 3 (ipykernel)",
   "language": "python",
   "name": "python3"
  },
  "language_info": {
   "codemirror_mode": {
    "name": "ipython",
    "version": 3
   },
   "file_extension": ".py",
   "mimetype": "text/x-python",
   "name": "python",
   "nbconvert_exporter": "python",
   "pygments_lexer": "ipython3",
   "version": "3.11.4"
  }
 },
 "nbformat": 4,
 "nbformat_minor": 5
}
