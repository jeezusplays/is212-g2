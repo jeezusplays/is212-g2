{
 "cells": [
  {
   "cell_type": "code",
   "execution_count": 1,
   "metadata": {},
   "outputs": [],
   "source": [
    "import os\n",
    "import pandas as pd\n",
    "import numpy as np\n",
    "import matplotlib.pyplot as plt\n",
    "import seaborn as sns\n",
    "import librosa\n",
    "\n",
    "from sklearn.preprocessing import StandardScaler, OneHotEncoder\n",
    "from sklearn.model_selection import train_test_split\n",
    "\n",
    "\n",
    "from IPython.display import Audio\n",
    "# import resampy"
   ]
  },
  {
   "cell_type": "markdown",
   "metadata": {},
   "source": [
    "## Extract Data"
   ]
  },
  {
   "cell_type": "code",
   "execution_count": 10,
   "metadata": {},
   "outputs": [],
   "source": [
    "\n",
    "kaggle_path = \"../kaggle/input/audio_speech_actors_01-24\""
   ]
  },
  {
   "cell_type": "markdown",
   "metadata": {},
   "source": [
    "### Kaggle Dataset"
   ]
  },
  {
   "cell_type": "code",
   "execution_count": 11,
   "metadata": {},
   "outputs": [],
   "source": [
    "current_directory = os.getcwd()\n",
    "combined_path = os.path.join(current_directory,kaggle_path)\n",
    "absolute_path = os.path.abspath(combined_path)\n",
    "\n",
    "directory_list = os.listdir(absolute_path)\n",
    "\n",
    "\n",
    "file_emotion = []\n",
    "file_path = []\n",
    "file_gender = []\n",
    "file_intensity = []\n",
    "file_line = []\n",
    "\n",
    "\n",
    "for dir in directory_list:\n",
    "    \n",
    "    # as their are 24 different actors in our previous directory we need to extract files for each actor.\n",
    "    actor = os.listdir(os.path.join(kaggle_path,dir))\n",
    "    \n",
    "    for file in actor:\n",
    "        part = file.split('.')\n",
    "        part = part[0].split('-')\n",
    "        # third part in each file represents the emotion associated to that file.\n",
    "        file_emotion.append(int(part[2]))\n",
    "        file_intensity.append(0 if int(part[3]) == 1 else 1) #0 is normal and 1 is strong\n",
    "        file_line.append(\"Kids are talking by the door\" if int(part[4]) == 1 else \"Dogs are sitting by the door\")\n",
    "        file_path.append(f\"{kaggle_path}/{dir}/{file}\")\n",
    "        file_gender.append(0 if int(dir.split('_')[1]) %2 == 1 else 1) #0 is male and 1 is female\n",
    "        \n",
    "# dataframe for emotion of files\n",
    "emotion_df = pd.DataFrame(file_emotion, columns=['Emotions'])\n",
    "\n",
    "# dataframe for path of files.\n",
    "path_df = pd.DataFrame(file_path, columns=['Path'])\n",
    "\n",
    "# dataframe for gender of actor\n",
    "gender_df = pd.DataFrame(file_gender, columns=['Gender'])\n",
    "\n",
    "#dataframe for emotional intensity\n",
    "intensity_df = pd.DataFrame(file_intensity, columns=['Intensity'])\n",
    "\n",
    "#dataframe for sentences spoken\n",
    "line_df = pd.DataFrame(file_line, columns=['Line'])\n",
    "\n",
    "\n",
    "#main df\n",
    "df = pd.concat([path_df, emotion_df, gender_df, intensity_df, line_df], axis=1)\n",
    "\n",
    "# changing integers to actual emotions.\n",
    "df.Emotions.replace({1:'neutral', 2:'calm', 3:'happy', 4:'sad', 5:'angry', 6:'fear', 7:'disgust', 8:'surprise'}, inplace=True)\n",
    "# df.to_csv(\"kaggle.csv\")"
   ]
  },
  {
   "cell_type": "markdown",
   "metadata": {},
   "source": [
    "### New dataset"
   ]
  },
  {
   "cell_type": "code",
   "execution_count": 13,
   "metadata": {},
   "outputs": [
    {
     "name": "stdout",
     "output_type": "stream",
     "text": [
      "                                                Path Emotions  Gender  \\\n",
      "0  ../kaggle/input/audio_speech_actors_01-24/Acto...  neutral       0   \n",
      "1  ../kaggle/input/audio_speech_actors_01-24/Acto...  neutral       0   \n",
      "2  ../kaggle/input/audio_speech_actors_01-24/Acto...  neutral       0   \n",
      "3  ../kaggle/input/audio_speech_actors_01-24/Acto...  neutral       0   \n",
      "4  ../kaggle/input/audio_speech_actors_01-24/Acto...     calm       0   \n",
      "\n",
      "   Intensity                          Line  \n",
      "0          0  Kids are talking by the door  \n",
      "1          0  Kids are talking by the door  \n",
      "2          0  Dogs are sitting by the door  \n",
      "3          0  Dogs are sitting by the door  \n",
      "4          0  Kids are talking by the door  \n"
     ]
    }
   ],
   "source": [
    "# Check current df state\n",
    "print(df.head())\n",
    "\n",
    "# Set up path for second dataset\n",
    "dataset2_path = \"\""
   ]
  },
  {
   "cell_type": "code",
   "execution_count": null,
   "metadata": {},
   "outputs": [],
   "source": [
    "# Do your magic here"
   ]
  },
  {
   "cell_type": "markdown",
   "metadata": {},
   "source": [
    "## Save dataset\n",
    "MAKE SURE COLUMNS ARE AS FOLLOWS <br>\n",
    "Path,Emotions,Gender,Intensity,Line\n",
    "\n",
    "Take note to use <strong>relative path</strong> instead\n"
   ]
  },
  {
   "cell_type": "code",
   "execution_count": 14,
   "metadata": {},
   "outputs": [],
   "source": [
    "\n",
    "df.to_csv(\"csv/dataset.csv\")"
   ]
  },
  {
   "cell_type": "code",
   "execution_count": null,
   "metadata": {},
   "outputs": [],
   "source": []
  }
 ],
 "metadata": {
  "kernelspec": {
   "display_name": "cuda11.2",
   "language": "python",
   "name": "python3"
  },
  "language_info": {
   "codemirror_mode": {
    "name": "ipython",
    "version": 3
   },
   "file_extension": ".py",
   "mimetype": "text/x-python",
   "name": "python",
   "nbconvert_exporter": "python",
   "pygments_lexer": "ipython3",
   "version": "3.10.13"
  },
  "orig_nbformat": 4
 },
 "nbformat": 4,
 "nbformat_minor": 2
}
