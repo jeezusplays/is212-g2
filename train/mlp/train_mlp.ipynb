{
 "cells": [
  {
   "cell_type": "markdown",
   "id": "d233c852",
   "metadata": {},
   "source": [
    "## Import Libraries"
   ]
  },
  {
   "cell_type": "code",
   "execution_count": 2,
   "id": "b9252540",
   "metadata": {
    "execution": {
     "iopub.execute_input": "2023-09-12T15:10:52.668567Z",
     "iopub.status.busy": "2023-09-12T15:10:52.668118Z",
     "iopub.status.idle": "2023-09-12T15:11:06.425269Z",
     "shell.execute_reply": "2023-09-12T15:11:06.424046Z",
     "shell.execute_reply.started": "2023-09-12T15:10:52.668527Z"
    }
   },
   "outputs": [],
   "source": [
    "import os\n",
    "import pandas as pd\n",
    "import numpy as np\n",
    "import matplotlib.pyplot as plt\n",
    "import seaborn as sns\n",
    "import librosa\n",
    "\n",
    "from sklearn.preprocessing import StandardScaler, OneHotEncoder\n",
    "from sklearn.model_selection import train_test_split\n",
    "\n",
    "from sklearn.metrics import classification_report, confusion_matrix, accuracy_score, balanced_accuracy_score, recall_score, precision_score, f1_score, ConfusionMatrixDisplay, RocCurveDisplay\n",
    "from sklearn.model_selection import GridSearchCV\n",
    "from sklearn.neural_network import MLPClassifier\n",
    "import joblib\n",
    "from joblib import dump, load"
   ]
  },
  {
   "cell_type": "markdown",
   "id": "397abde9",
   "metadata": {},
   "source": [
    "# Data Preparation"
   ]
  },
  {
   "cell_type": "code",
   "execution_count": 3,
   "id": "95a373ea",
   "metadata": {},
   "outputs": [],
   "source": [
    "# TRAINING STARTS HERE\n",
    "\n",
    "path_to_features = \"../../data-extension/csv/old/features2.csv\"\n",
    "Features = pd.read_csv(path_to_features)\n",
    "\n",
    "X = Features.iloc[: ,:-1].values\n",
    "Y = Features['labels'].values"
   ]
  },
  {
   "cell_type": "markdown",
   "id": "97a27110",
   "metadata": {},
   "source": [
    "# Splitting of data"
   ]
  },
  {
   "cell_type": "code",
   "execution_count": 4,
   "id": "257f6c21",
   "metadata": {},
   "outputs": [
    {
     "data": {
      "text/plain": [
       "((3456, 1104), (3456,), (864, 1104), (864,))"
      ]
     },
     "execution_count": 4,
     "metadata": {},
     "output_type": "execute_result"
    }
   ],
   "source": [
    "# splitting data\n",
    "x_train, x_test, y_train, y_test = train_test_split(X, Y, test_size=0.2, random_state=10)\n",
    "x_train.shape, y_train.shape, x_test.shape, y_test.shape"
   ]
  },
  {
   "cell_type": "code",
   "execution_count": 5,
   "id": "2540c06a",
   "metadata": {},
   "outputs": [
    {
     "data": {
      "text/plain": [
       "((3456, 1104), (3456,), (864, 1104), (864,))"
      ]
     },
     "execution_count": 5,
     "metadata": {},
     "output_type": "execute_result"
    }
   ],
   "source": [
    "# scaling our data with sklearn's Standard scaler\n",
    "scaler = StandardScaler()\n",
    "x_train = scaler.fit_transform(x_train)\n",
    "x_test = scaler.transform(x_test)\n",
    "x_train.shape, y_train.shape, x_test.shape, y_test.shape"
   ]
  },
  {
   "cell_type": "markdown",
   "id": "b38d4077",
   "metadata": {},
   "source": [
    "# MLP"
   ]
  },
  {
   "cell_type": "markdown",
   "id": "e73c85e0",
   "metadata": {},
   "source": [
    "# Finding the best learning rate with highest accuracy"
   ]
  },
  {
   "cell_type": "code",
   "execution_count": 6,
   "id": "9e13c6ab",
   "metadata": {},
   "outputs": [
    {
     "name": "stdout",
     "output_type": "stream",
     "text": [
      "Fitting 4 folds for each of 3 candidates, totalling 12 fits\n",
      "Best HyperParameter:  {'learning_rate': 'adaptive'}\n",
      "Best Average Accuracy : 0.8839188001629837\n"
     ]
    }
   ],
   "source": [
    "learning_rate = ['constant', 'invscaling', 'adaptive']\n",
    "svc = MLPClassifier()\n",
    "hyperParam = [{'learning_rate':learning_rate}]\n",
    "gsv = GridSearchCV(svc,hyperParam,cv=4,verbose=1, scoring='balanced_accuracy')\n",
    "best_model = gsv.fit(x_train, y_train) # Fitting␣ model with xtrain and y_train\n",
    "y_pred = best_model.best_estimator_.predict(x_test) # Predicting␣ the results\n",
    "print(\"Best HyperParameter: \",gsv.best_params_)\n",
    "print(\"Best Average Accuracy :\",best_model.score(x_test, y_test))"
   ]
  },
  {
   "cell_type": "code",
   "execution_count": 7,
   "id": "636bdb06",
   "metadata": {},
   "outputs": [
    {
     "name": "stdout",
     "output_type": "stream",
     "text": [
      "Confusion Matrix: \n",
      " [[ 97   2   6   2   4   1   1   4]\n",
      " [  0 111   2   1   1   1   2   0]\n",
      " [  4   1 111   2   0   0   3   1]\n",
      " [  3   1   1  98   0   0   0   2]\n",
      " [  1   1   4   3 106   3   4   3]\n",
      " [  0   7   1   0   0  41   3   0]\n",
      " [  1   4   2   2   3   1  99   0]\n",
      " [  1   1   2   2   1   0   0 106]]\n",
      "              precision    recall  f1-score   support\n",
      "\n",
      "       angry       0.91      0.83      0.87       117\n",
      "        calm       0.87      0.94      0.90       118\n",
      "     disgust       0.86      0.91      0.88       122\n",
      "        fear       0.89      0.93      0.91       105\n",
      "       happy       0.92      0.85      0.88       125\n",
      "     neutral       0.87      0.79      0.83        52\n",
      "         sad       0.88      0.88      0.88       112\n",
      "    surprise       0.91      0.94      0.93       113\n",
      "\n",
      "    accuracy                           0.89       864\n",
      "   macro avg       0.89      0.88      0.89       864\n",
      "weighted avg       0.89      0.89      0.89       864\n",
      "\n",
      "Accuracy: 0.8900462962962963\n",
      "Average Class Accuracy: 0.8839188001629837\n"
     ]
    },
    {
     "data": {
      "image/png": "[encoded data removed]",
      "text/plain": [
       "<Figure size 640x480 with 2 Axes>"
      ]
     },
     "metadata": {},
     "output_type": "display_data"
    }
   ],
   "source": [
    "ConfusionMatrixDisplay.from_estimator(gsv, x_test, y_test)\n",
    "conf_metr = confusion_matrix(y_test, y_pred)\n",
    "print(\"Confusion Matrix: \\n {}\".format(conf_metr))\n",
    "print(classification_report(y_test,y_pred))\n",
    "print(\"Accuracy:\", accuracy_score(y_test, y_pred))\n",
    "print(\"Average Class Accuracy:\",balanced_accuracy_score(y_test, y_pred))"
   ]
  },
  {
   "cell_type": "code",
   "execution_count": 9,
   "id": "1684629d",
   "metadata": {},
   "outputs": [
    {
     "data": {
      "text/plain": [
       "['mlp_best.joblib']"
      ]
     },
     "execution_count": 9,
     "metadata": {},
     "output_type": "execute_result"
    }
   ],
   "source": [
    "#Copy the file in the folder and use model: \"model = load('filename.joblib')\" to load model and use\n",
    "dump(best_model, 'mlp_best.joblib')"
   ]
  }
 ],
 "metadata": {
  "kernelspec": {
   "display_name": "venv",
   "language": "python",
   "name": "python3"
  },
  "language_info": {
   "codemirror_mode": {
    "name": "ipython",
    "version": 3
   },
   "file_extension": ".py",
   "mimetype": "text/x-python",
   "name": "python",
   "nbconvert_exporter": "python",
   "pygments_lexer": "ipython3",
   "version": "3.11.4"
  }
 },
 "nbformat": 4,
 "nbformat_minor": 5
}
