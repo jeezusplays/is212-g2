{
 "cells": [
  {
   "cell_type": "markdown",
   "id": "d233c852",
   "metadata": {},
   "source": [
    "## Import Libraries"
   ]
  },
  {
   "cell_type": "code",
   "execution_count": 2,
   "id": "b9252540",
   "metadata": {
    "execution": {
     "iopub.execute_input": "2023-09-12T15:10:52.668567Z",
     "iopub.status.busy": "2023-09-12T15:10:52.668118Z",
     "iopub.status.idle": "2023-09-12T15:11:06.425269Z",
     "shell.execute_reply": "2023-09-12T15:11:06.424046Z",
     "shell.execute_reply.started": "2023-09-12T15:10:52.668527Z"
    }
   },
   "outputs": [],
   "source": [
    "import os\n",
    "import pandas as pd\n",
    "import numpy as np\n",
    "import matplotlib.pyplot as plt\n",
    "import seaborn as sns\n",
    "import librosa\n",
    "\n",
    "from sklearn.preprocessing import StandardScaler, OneHotEncoder\n",
    "from sklearn.model_selection import train_test_split\n",
    "\n",
    "from sklearn.svm import SVC\n",
    "from sklearn.metrics import classification_report, confusion_matrix, accuracy_score, balanced_accuracy_score, recall_score, precision_score, f1_score, ConfusionMatrixDisplay, RocCurveDisplay\n",
    "from sklearn.model_selection import GridSearchCV\n",
    "import joblib\n",
    "from joblib import dump, load"
   ]
  },
  {
   "cell_type": "markdown",
   "id": "397abde9",
   "metadata": {},
   "source": [
    "# Data Preparation"
   ]
  },
  {
   "cell_type": "code",
   "execution_count": 3,
   "id": "95a373ea",
   "metadata": {},
   "outputs": [],
   "source": [
    "# TRAINING STARTS HERE\n",
    "\n",
    "path_to_features = \"../../data-extension/csv/darryl_221-PCA.csv\"\n",
    "Features = pd.read_csv(path_to_features)\n",
    "\n",
    "X = Features.iloc[: ,:-1].values\n",
    "Y = Features['labels'].values"
   ]
  },
  {
   "cell_type": "markdown",
   "id": "97a27110",
   "metadata": {},
   "source": [
    "# Splitting of data"
   ]
  },
  {
   "cell_type": "code",
   "execution_count": 4,
   "id": "257f6c21",
   "metadata": {},
   "outputs": [
    {
     "data": {
      "text/plain": [
       "((3456, 221), (3456,), (864, 221), (864,))"
      ]
     },
     "execution_count": 4,
     "metadata": {},
     "output_type": "execute_result"
    }
   ],
   "source": [
    "# splitting data\n",
    "x_train, x_test, y_train, y_test = train_test_split(X, Y, test_size=0.2, random_state=10)\n",
    "x_train.shape, y_train.shape, x_test.shape, y_test.shape"
   ]
  },
  {
   "cell_type": "code",
   "execution_count": 5,
   "id": "2540c06a",
   "metadata": {},
   "outputs": [
    {
     "data": {
      "text/plain": [
       "((3456, 221), (3456,), (864, 221), (864,))"
      ]
     },
     "execution_count": 5,
     "metadata": {},
     "output_type": "execute_result"
    }
   ],
   "source": [
    "# scaling our data with sklearn's Standard scaler\n",
    "scaler = StandardScaler()\n",
    "x_train = scaler.fit_transform(x_train)\n",
    "x_test = scaler.transform(x_test)\n",
    "x_train.shape, y_train.shape, x_test.shape, y_test.shape"
   ]
  },
  {
   "cell_type": "markdown",
   "id": "b38d4077",
   "metadata": {},
   "source": [
    "# SVM"
   ]
  },
  {
   "cell_type": "code",
   "execution_count": 6,
   "id": "66d0e68c",
   "metadata": {},
   "outputs": [
    {
     "name": "stdout",
     "output_type": "stream",
     "text": [
      "              precision    recall  f1-score   support\n",
      "\n",
      "       angry       0.77      0.78      0.77       117\n",
      "        calm       0.72      0.89      0.80       118\n",
      "     disgust       0.77      0.83      0.80       122\n",
      "        fear       0.91      0.69      0.78       105\n",
      "       happy       0.71      0.67      0.69       125\n",
      "     neutral       0.69      0.38      0.49        52\n",
      "         sad       0.70      0.68      0.69       112\n",
      "    surprise       0.75      0.89      0.81       113\n",
      "\n",
      "    accuracy                           0.75       864\n",
      "   macro avg       0.75      0.73      0.73       864\n",
      "weighted avg       0.76      0.75      0.75       864\n",
      "\n",
      "Accuracy 0.7523148148148148\n",
      "Average Class Accuracy 0.7531549653715701\n"
     ]
    }
   ],
   "source": [
    "model_SVM = SVC(C=1.0,kernel='rbf',random_state=42)\n",
    "model_SVM.fit (x_train,y_train)\n",
    "\n",
    "y_pred = model_SVM.predict (x_test)\n",
    "\n",
    "print (classification_report(y_test,y_pred))\n",
    "acc = accuracy_score(y_pred,y_test)\n",
    "bacc = balanced_accuracy_score(y_pred,y_test)\n",
    "print('Accuracy',acc)\n",
    "print(\"Average Class Accuracy\", bacc)"
   ]
  },
  {
   "cell_type": "markdown",
   "id": "e73c85e0",
   "metadata": {},
   "source": [
    "# Finding the best kernel with highest accuracy"
   ]
  },
  {
   "cell_type": "code",
   "execution_count": 7,
   "id": "9e13c6ab",
   "metadata": {},
   "outputs": [
    {
     "name": "stdout",
     "output_type": "stream",
     "text": [
      "Fitting 5 folds for each of 4 candidates, totalling 20 fits\n",
      "Best HyperParameter:  {'kernel': 'rbf'}\n",
      "Best Average Accuracy : 0.7262729434183729\n"
     ]
    }
   ],
   "source": [
    "kernels = ['rbf','linear','poly','sigmoid']\n",
    "svc = SVC()\n",
    "hyperParam = [{'kernel':kernels}]\n",
    "gsv = GridSearchCV(svc,hyperParam,cv=5,verbose=1, scoring='balanced_accuracy')\n",
    "best_model = gsv.fit(x_train, y_train) # Fitting␣ model with xtrain and y_train\n",
    "y_pred = best_model.best_estimator_.predict(x_test) # Predicting␣ the results\n",
    "print(\"Best HyperParameter: \",gsv.best_params_)\n",
    "print(\"Best Average Accuracy :\",best_model.score(x_test, y_test))"
   ]
  },
  {
   "cell_type": "code",
   "execution_count": 8,
   "id": "636bdb06",
   "metadata": {},
   "outputs": [
    {
     "name": "stdout",
     "output_type": "stream",
     "text": [
      "Confusion Matrix: \n",
      " [[ 91   6   6   1   8   0   1   4]\n",
      " [  0 105   4   0   1   2   6   0]\n",
      " [  3   2 101   1   5   3   3   4]\n",
      " [ 11   1   1  72   7   0   5   8]\n",
      " [ 10   1   6   2  84   3   7  12]\n",
      " [  0  17   2   0   6  20   7   0]\n",
      " [  3  13   6   3   5   0  76   6]\n",
      " [  0   0   6   0   2   1   3 101]]\n",
      "              precision    recall  f1-score   support\n",
      "\n",
      "       angry       0.77      0.78      0.77       117\n",
      "        calm       0.72      0.89      0.80       118\n",
      "     disgust       0.77      0.83      0.80       122\n",
      "        fear       0.91      0.69      0.78       105\n",
      "       happy       0.71      0.67      0.69       125\n",
      "     neutral       0.69      0.38      0.49        52\n",
      "         sad       0.70      0.68      0.69       112\n",
      "    surprise       0.75      0.89      0.81       113\n",
      "\n",
      "    accuracy                           0.75       864\n",
      "   macro avg       0.75      0.73      0.73       864\n",
      "weighted avg       0.76      0.75      0.75       864\n",
      "\n",
      "Accuracy: 0.7523148148148148\n",
      "Average Class Accuracy: 0.7262729434183729\n"
     ]
    },
    {
     "data": {
      "image/png": "[encoded data removed]",
      "text/plain": [
       "<Figure size 640x480 with 2 Axes>"
      ]
     },
     "metadata": {},
     "output_type": "display_data"
    }
   ],
   "source": [
    "ConfusionMatrixDisplay.from_estimator(gsv, x_test, y_test)\n",
    "conf_metr = confusion_matrix(y_test, y_pred)\n",
    "print(\"Confusion Matrix: \\n {}\".format(conf_metr))\n",
    "print(classification_report(y_test,y_pred))\n",
    "print(\"Accuracy:\", accuracy_score(y_test, y_pred))\n",
    "print(\"Average Class Accuracy:\",balanced_accuracy_score(y_test, y_pred))"
   ]
  },
  {
   "cell_type": "code",
   "execution_count": 9,
   "id": "1684629d",
   "metadata": {},
   "outputs": [
    {
     "data": {
      "text/plain": [
       "['svm_PCA-221_best.joblib']"
      ]
     },
     "execution_count": 9,
     "metadata": {},
     "output_type": "execute_result"
    }
   ],
   "source": [
    "#Copy the file in the folder and use model: \"model = load('filename.joblib')\" to load model and use\n",
    "dump(best_model, 'svm_PCA-221_best.joblib')"
   ]
  }
 ],
 "metadata": {
  "kernelspec": {
   "display_name": "venv",
   "language": "python",
   "name": "python3"
  },
  "language_info": {
   "codemirror_mode": {
    "name": "ipython",
    "version": 3
   },
   "file_extension": ".py",
   "mimetype": "text/x-python",
   "name": "python",
   "nbconvert_exporter": "python",
   "pygments_lexer": "ipython3",
   "version": "3.11.4"
  }
 },
 "nbformat": 4,
 "nbformat_minor": 5
}
